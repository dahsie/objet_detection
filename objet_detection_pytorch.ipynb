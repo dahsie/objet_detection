{
 "cells": [
  {
   "cell_type": "code",
   "execution_count": 1,
   "id": "d39fac50-7ed2-474a-85fa-f6abe1a624d5",
   "metadata": {},
   "outputs": [],
   "source": [
    "import torch\n",
    "import torch.nn as nn\n",
    "import torch.optim as optim\n",
    "import torchvision\n",
    "from tqdm import tqdm\n",
    "from torch.nn import Conv2d, BatchNorm2d,Dropout,Flatten,MaxPool2d,Linear\n",
    "from torch.nn import ReLU,Sigmoid,Softmax\n",
    "from torch.nn import Sequential"
   ]
  },
  {
   "cell_type": "code",
   "execution_count": 2,
   "id": "56472655-005a-45ac-aa67-d8feb7263a28",
   "metadata": {},
   "outputs": [],
   "source": [
    "class ObjectDetection(nn.Module):\n",
    "    def __init__(self,n_class):\n",
    "        super(ObjectDetection,self).__init__()\n",
    "        self.n_class=n_class\n",
    "        self.base_model=Sequential(\n",
    "            Conv2d(in_channels=3,out_channels=64,kernel_size=3,padding='same',stride=1),\n",
    "            BatchNorm2d(num_features=64),\n",
    "            ReLU(inplace=True),\n",
    "            MaxPool2d(kernel_size=2,stride=2),\n",
    "            Conv2d(in_channels=64,out_channels=128,kernel_size=3,padding='same',stride=1),\n",
    "            BatchNorm2d(num_features=128),\n",
    "            ReLU(inplace=True),\n",
    "            Conv2d(in_channels=128,out_channels=128,kernel_size=3,padding='same',stride=1),\n",
    "            BatchNorm2d(num_features=128)\n",
    "        )\n",
    "        \n",
    "        self.regressor = Sequential(\n",
    "    \t\tLinear(in_features=128, out_features=128),\n",
    "    \t\tReLU(inplace=True),\n",
    "    \t\tLinear(in_features=128, out_features=64),\n",
    "    \t\tReLU(inplace=True),\n",
    "    \t\tLinear(in_features=64, out_features=32),\n",
    "    \t\tReLU(inplace=True),\n",
    "    \t\tLinear(in_features=32, out_features=4),\n",
    "    \t\tSigmoid()\n",
    "        )\n",
    "        \n",
    "        self.classifier = Sequential(\n",
    "\t\t\tLinear(in_features=512, out_features=512),\n",
    "\t\t\tReLU(inplace=True),\n",
    "\t\t\tDropout(0.2),\n",
    "\t\t\tLinear(in_features=512, out_features=512),\n",
    "\t\t\tReLU(inplace=True),\n",
    "\t\t\tDropout(0.2),\n",
    "\t\t\tLinear(in_features=512, out_features=self.n_class)\n",
    "        )\n",
    "\n",
    "    def farward(self,inputs):\n",
    "        x=self.base_model(inputs)\n",
    "        x=x.view(x.size(0),-1)\n",
    "        regressor=self.regressor(x)\n",
    "        classier=self.classifier(x)\n",
    "        return (regressor,classifier)\n"
   ]
  },
  {
   "cell_type": "code",
   "execution_count": 4,
   "id": "2b6094e6-1109-4d1a-8a15-74e79f25fb5e",
   "metadata": {},
   "outputs": [
    {
     "data": {
      "text/plain": [
       "ObjectDetection(\n",
       "  (base_model): Sequential(\n",
       "    (0): Conv2d(3, 64, kernel_size=(3, 3), stride=(1, 1), padding=same)\n",
       "    (1): BatchNorm2d(64, eps=1e-05, momentum=0.1, affine=True, track_running_stats=True)\n",
       "    (2): ReLU(inplace=True)\n",
       "    (3): MaxPool2d(kernel_size=2, stride=2, padding=0, dilation=1, ceil_mode=False)\n",
       "    (4): Conv2d(64, 128, kernel_size=(3, 3), stride=(1, 1), padding=same)\n",
       "    (5): BatchNorm2d(128, eps=1e-05, momentum=0.1, affine=True, track_running_stats=True)\n",
       "    (6): ReLU(inplace=True)\n",
       "    (7): Conv2d(128, 128, kernel_size=(3, 3), stride=(1, 1), padding=same)\n",
       "    (8): BatchNorm2d(128, eps=1e-05, momentum=0.1, affine=True, track_running_stats=True)\n",
       "  )\n",
       "  (regressor): Sequential(\n",
       "    (0): Linear(in_features=128, out_features=128, bias=True)\n",
       "    (1): ReLU(inplace=True)\n",
       "    (2): Linear(in_features=128, out_features=64, bias=True)\n",
       "    (3): ReLU(inplace=True)\n",
       "    (4): Linear(in_features=64, out_features=32, bias=True)\n",
       "    (5): ReLU(inplace=True)\n",
       "    (6): Linear(in_features=32, out_features=4, bias=True)\n",
       "    (7): Sigmoid()\n",
       "  )\n",
       "  (classifier): Sequential(\n",
       "    (0): Linear(in_features=512, out_features=512, bias=True)\n",
       "    (1): ReLU(inplace=True)\n",
       "    (2): Dropout(p=0.2, inplace=False)\n",
       "    (3): Linear(in_features=512, out_features=512, bias=True)\n",
       "    (4): ReLU(inplace=True)\n",
       "    (5): Dropout(p=0.2, inplace=False)\n",
       "    (6): Linear(in_features=512, out_features=10, bias=True)\n",
       "  )\n",
       ")"
      ]
     },
     "execution_count": 4,
     "metadata": {},
     "output_type": "execute_result"
    }
   ],
   "source": [
    "model=ObjectDetection(n_class=10)\n",
    "model"
   ]
  },
  {
   "cell_type": "code",
   "execution_count": null,
   "id": "8d021482-4774-46a0-af7d-49007748f522",
   "metadata": {},
   "outputs": [],
   "source": []
  }
 ],
 "metadata": {
  "kernelspec": {
   "display_name": "Python 3 (ipykernel)",
   "language": "python",
   "name": "python3"
  },
  "language_info": {
   "codemirror_mode": {
    "name": "ipython",
    "version": 3
   },
   "file_extension": ".py",
   "mimetype": "text/x-python",
   "name": "python",
   "nbconvert_exporter": "python",
   "pygments_lexer": "ipython3",
   "version": "3.11.4"
  },
  "widgets": {
   "application/vnd.jupyter.widget-state+json": {
    "state": {},
    "version_major": 2,
    "version_minor": 0
   }
  }
 },
 "nbformat": 4,
 "nbformat_minor": 5
}
