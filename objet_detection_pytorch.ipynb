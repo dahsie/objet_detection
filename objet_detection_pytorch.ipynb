{
 "cells": [
  {
   "cell_type": "code",
   "execution_count": 24,
   "id": "d39fac50-7ed2-474a-85fa-f6abe1a624d5",
   "metadata": {},
   "outputs": [],
   "source": [
    "import torch\n",
    "import torch.nn as nn\n",
    "import torch.optim as optim\n",
    "import torchvision\n",
    "from tqdm import tqdm\n",
    "from torch.nn import Conv2d, BatchNorm2d,Dropout,Flatten,MaxPool2d,Linear,ReLU,LayerNorm\n",
    "from torch.nn import Sequential"
   ]
  },
  {
   "cell_type": "code",
   "execution_count": 25,
   "id": "56472655-005a-45ac-aa67-d8feb7263a28",
   "metadata": {},
   "outputs": [],
   "source": [
    "class ObjectDetection(nn.Module):\n",
    "    def __init__(self,n_class):\n",
    "        super(ObjectDetection,self).__init__()\n",
    "        self.n_class=n_class\n",
    "        self.base_model=Sequential(\n",
    "            Conv2d(in_channels=3,out_channels=64,kernel_size=3,padding='same',stride=1),\n",
    "            BatchNorm2d(num_features=64),\n",
    "            ReLU(inplace=True),\n",
    "            MaxPool2d(kernel_size=2,stride=2),\n",
    "            Conv2d(in_channels=64,out_channels=128,kernel_size=3,padding='same',stride=1),\n",
    "            BatchNorm2d(num_features=128),\n",
    "            ReLU(inplace=True),\n",
    "            Conv2d(in_channels=128,out_channels=128,kernel_size=3,padding='same',stride=1),\n",
    "            BatchNorm2d(num_features=128))\n",
    "        \n",
    "        self.regressor = Sequential(\n",
    "    \t\tLinear(in_features=, 128),\n",
    "    \t\tReLU(inplace=True),\n",
    "    \t\tLinear(128, 64),\n",
    "    \t\tReLU(inplace=True),\n",
    "    \t\tLinear(64, 32),\n",
    "    \t\tReLU(inplace=True),\n",
    "    \t\tLinear(32, 4),\n",
    "    \t\tSigmoid(inplace=True))\n",
    "        \n",
    "        self.classifier = Sequential(\n",
    "\t\t\tLinear(baseModel.fc.in_features, 512),\n",
    "\t\t\tReLU(inplace=True),\n",
    "\t\t\tDropout(0.2),\n",
    "\t\t\tLinear(512, 512),\n",
    "\t\t\tReLU(inplace=True),\n",
    "\t\t\tDropout(0.2),\n",
    "\t\t\tLinear(512, self.n_class))\n",
    "\n",
    "    def farward(self,inputs):\n",
    "        x=self.base_model(inputs)\n",
    "\n",
    "\n",
    "\n",
    "\n",
    "        return x"
   ]
  },
  {
   "cell_type": "code",
   "execution_count": 26,
   "id": "649542a5-80a0-4944-bce9-00ca45c84ff7",
   "metadata": {},
   "outputs": [
    {
     "ename": "NameError",
     "evalue": "name 'baseModel' is not defined",
     "output_type": "error",
     "traceback": [
      "\u001b[0;31m---------------------------------------------------------------------------\u001b[0m",
      "\u001b[0;31mNameError\u001b[0m                                 Traceback (most recent call last)",
      "Cell \u001b[0;32mIn[26], line 1\u001b[0m\n\u001b[0;32m----> 1\u001b[0m model\u001b[38;5;241m=\u001b[39m\u001b[43mObjectDetection\u001b[49m\u001b[43m(\u001b[49m\u001b[43mn_class\u001b[49m\u001b[38;5;241;43m=\u001b[39;49m\u001b[38;5;241;43m10\u001b[39;49m\u001b[43m)\u001b[49m\n\u001b[1;32m      2\u001b[0m model\n",
      "Cell \u001b[0;32mIn[25], line 18\u001b[0m, in \u001b[0;36mObjectDetection.__init__\u001b[0;34m(self, n_class)\u001b[0m\n\u001b[1;32m      4\u001b[0m         \u001b[38;5;28mself\u001b[39m\u001b[38;5;241m.\u001b[39mn_class\u001b[38;5;241m=\u001b[39mn_class\n\u001b[1;32m      5\u001b[0m         \u001b[38;5;28mself\u001b[39m\u001b[38;5;241m.\u001b[39mbase_model\u001b[38;5;241m=\u001b[39mSequential(\n\u001b[1;32m      6\u001b[0m             Conv2d(in_channels\u001b[38;5;241m=\u001b[39m\u001b[38;5;241m3\u001b[39m,out_channels\u001b[38;5;241m=\u001b[39m\u001b[38;5;241m64\u001b[39m,kernel_size\u001b[38;5;241m=\u001b[39m\u001b[38;5;241m3\u001b[39m,padding\u001b[38;5;241m=\u001b[39m\u001b[38;5;124m'\u001b[39m\u001b[38;5;124msame\u001b[39m\u001b[38;5;124m'\u001b[39m,stride\u001b[38;5;241m=\u001b[39m\u001b[38;5;241m1\u001b[39m),\n\u001b[1;32m      7\u001b[0m             ReLU(),\n\u001b[0;32m   (...)\u001b[0m\n\u001b[1;32m     14\u001b[0m             ReLU(),\n\u001b[1;32m     15\u001b[0m             BatchNorm2d(num_features\u001b[38;5;241m=\u001b[39m\u001b[38;5;241m128\u001b[39m))\n\u001b[1;32m     17\u001b[0m         \u001b[38;5;28mself\u001b[39m\u001b[38;5;241m.\u001b[39mregressor \u001b[38;5;241m=\u001b[39m Sequential(\n\u001b[0;32m---> 18\u001b[0m     \t\tLinear(\u001b[43mbaseModel\u001b[49m\u001b[38;5;241m.\u001b[39mfc\u001b[38;5;241m.\u001b[39min_features, \u001b[38;5;241m128\u001b[39m),\n\u001b[1;32m     19\u001b[0m     \t\tReLU(),\n\u001b[1;32m     20\u001b[0m     \t\tLinear(\u001b[38;5;241m128\u001b[39m, \u001b[38;5;241m64\u001b[39m),\n\u001b[1;32m     21\u001b[0m     \t\tReLU(),\n\u001b[1;32m     22\u001b[0m     \t\tLinear(\u001b[38;5;241m64\u001b[39m, \u001b[38;5;241m32\u001b[39m),\n\u001b[1;32m     23\u001b[0m     \t\tReLU(),\n\u001b[1;32m     24\u001b[0m     \t\tLinear(\u001b[38;5;241m32\u001b[39m, \u001b[38;5;241m4\u001b[39m),\n\u001b[1;32m     25\u001b[0m     \t\tSigmoid())\n\u001b[1;32m     27\u001b[0m         \u001b[38;5;28mself\u001b[39m\u001b[38;5;241m.\u001b[39mclassifier \u001b[38;5;241m=\u001b[39m Sequential(\n\u001b[1;32m     28\u001b[0m \t\t\tLinear(baseModel\u001b[38;5;241m.\u001b[39mfc\u001b[38;5;241m.\u001b[39min_features, \u001b[38;5;241m512\u001b[39m),\n\u001b[1;32m     29\u001b[0m \t\t\tReLU(),\n\u001b[0;32m   (...)\u001b[0m\n\u001b[1;32m     33\u001b[0m \t\t\tDropout(\u001b[38;5;241m0.2\u001b[39m),\n\u001b[1;32m     34\u001b[0m \t\t\tLinear(\u001b[38;5;241m512\u001b[39m, \u001b[38;5;28mself\u001b[39m\u001b[38;5;241m.\u001b[39mn_class))\n",
      "\u001b[0;31mNameError\u001b[0m: name 'baseModel' is not defined"
     ]
    }
   ],
   "source": [
    "model=ObjectDetection(n_class=10)\n",
    "model"
   ]
  },
  {
   "cell_type": "code",
   "execution_count": 29,
   "id": "fcf0c8aa-0484-4698-be1e-2917e6f041f6",
   "metadata": {},
   "outputs": [
    {
     "data": {
      "text/plain": [
       "ResNet(\n",
       "  (conv1): Conv2d(3, 64, kernel_size=(7, 7), stride=(2, 2), padding=(3, 3), bias=False)\n",
       "  (bn1): BatchNorm2d(64, eps=1e-05, momentum=0.1, affine=True, track_running_stats=True)\n",
       "  (relu): ReLU(inplace=True)\n",
       "  (maxpool): MaxPool2d(kernel_size=3, stride=2, padding=1, dilation=1, ceil_mode=False)\n",
       "  (layer1): Sequential(\n",
       "    (0): BasicBlock(\n",
       "      (conv1): Conv2d(64, 64, kernel_size=(3, 3), stride=(1, 1), padding=(1, 1), bias=False)\n",
       "      (bn1): BatchNorm2d(64, eps=1e-05, momentum=0.1, affine=True, track_running_stats=True)\n",
       "      (relu): ReLU(inplace=True)\n",
       "      (conv2): Conv2d(64, 64, kernel_size=(3, 3), stride=(1, 1), padding=(1, 1), bias=False)\n",
       "      (bn2): BatchNorm2d(64, eps=1e-05, momentum=0.1, affine=True, track_running_stats=True)\n",
       "    )\n",
       "    (1): BasicBlock(\n",
       "      (conv1): Conv2d(64, 64, kernel_size=(3, 3), stride=(1, 1), padding=(1, 1), bias=False)\n",
       "      (bn1): BatchNorm2d(64, eps=1e-05, momentum=0.1, affine=True, track_running_stats=True)\n",
       "      (relu): ReLU(inplace=True)\n",
       "      (conv2): Conv2d(64, 64, kernel_size=(3, 3), stride=(1, 1), padding=(1, 1), bias=False)\n",
       "      (bn2): BatchNorm2d(64, eps=1e-05, momentum=0.1, affine=True, track_running_stats=True)\n",
       "    )\n",
       "  )\n",
       "  (layer2): Sequential(\n",
       "    (0): BasicBlock(\n",
       "      (conv1): Conv2d(64, 128, kernel_size=(3, 3), stride=(2, 2), padding=(1, 1), bias=False)\n",
       "      (bn1): BatchNorm2d(128, eps=1e-05, momentum=0.1, affine=True, track_running_stats=True)\n",
       "      (relu): ReLU(inplace=True)\n",
       "      (conv2): Conv2d(128, 128, kernel_size=(3, 3), stride=(1, 1), padding=(1, 1), bias=False)\n",
       "      (bn2): BatchNorm2d(128, eps=1e-05, momentum=0.1, affine=True, track_running_stats=True)\n",
       "      (downsample): Sequential(\n",
       "        (0): Conv2d(64, 128, kernel_size=(1, 1), stride=(2, 2), bias=False)\n",
       "        (1): BatchNorm2d(128, eps=1e-05, momentum=0.1, affine=True, track_running_stats=True)\n",
       "      )\n",
       "    )\n",
       "    (1): BasicBlock(\n",
       "      (conv1): Conv2d(128, 128, kernel_size=(3, 3), stride=(1, 1), padding=(1, 1), bias=False)\n",
       "      (bn1): BatchNorm2d(128, eps=1e-05, momentum=0.1, affine=True, track_running_stats=True)\n",
       "      (relu): ReLU(inplace=True)\n",
       "      (conv2): Conv2d(128, 128, kernel_size=(3, 3), stride=(1, 1), padding=(1, 1), bias=False)\n",
       "      (bn2): BatchNorm2d(128, eps=1e-05, momentum=0.1, affine=True, track_running_stats=True)\n",
       "    )\n",
       "  )\n",
       "  (layer3): Sequential(\n",
       "    (0): BasicBlock(\n",
       "      (conv1): Conv2d(128, 256, kernel_size=(3, 3), stride=(2, 2), padding=(1, 1), bias=False)\n",
       "      (bn1): BatchNorm2d(256, eps=1e-05, momentum=0.1, affine=True, track_running_stats=True)\n",
       "      (relu): ReLU(inplace=True)\n",
       "      (conv2): Conv2d(256, 256, kernel_size=(3, 3), stride=(1, 1), padding=(1, 1), bias=False)\n",
       "      (bn2): BatchNorm2d(256, eps=1e-05, momentum=0.1, affine=True, track_running_stats=True)\n",
       "      (downsample): Sequential(\n",
       "        (0): Conv2d(128, 256, kernel_size=(1, 1), stride=(2, 2), bias=False)\n",
       "        (1): BatchNorm2d(256, eps=1e-05, momentum=0.1, affine=True, track_running_stats=True)\n",
       "      )\n",
       "    )\n",
       "    (1): BasicBlock(\n",
       "      (conv1): Conv2d(256, 256, kernel_size=(3, 3), stride=(1, 1), padding=(1, 1), bias=False)\n",
       "      (bn1): BatchNorm2d(256, eps=1e-05, momentum=0.1, affine=True, track_running_stats=True)\n",
       "      (relu): ReLU(inplace=True)\n",
       "      (conv2): Conv2d(256, 256, kernel_size=(3, 3), stride=(1, 1), padding=(1, 1), bias=False)\n",
       "      (bn2): BatchNorm2d(256, eps=1e-05, momentum=0.1, affine=True, track_running_stats=True)\n",
       "    )\n",
       "  )\n",
       "  (layer4): Sequential(\n",
       "    (0): BasicBlock(\n",
       "      (conv1): Conv2d(256, 512, kernel_size=(3, 3), stride=(2, 2), padding=(1, 1), bias=False)\n",
       "      (bn1): BatchNorm2d(512, eps=1e-05, momentum=0.1, affine=True, track_running_stats=True)\n",
       "      (relu): ReLU(inplace=True)\n",
       "      (conv2): Conv2d(512, 512, kernel_size=(3, 3), stride=(1, 1), padding=(1, 1), bias=False)\n",
       "      (bn2): BatchNorm2d(512, eps=1e-05, momentum=0.1, affine=True, track_running_stats=True)\n",
       "      (downsample): Sequential(\n",
       "        (0): Conv2d(256, 512, kernel_size=(1, 1), stride=(2, 2), bias=False)\n",
       "        (1): BatchNorm2d(512, eps=1e-05, momentum=0.1, affine=True, track_running_stats=True)\n",
       "      )\n",
       "    )\n",
       "    (1): BasicBlock(\n",
       "      (conv1): Conv2d(512, 512, kernel_size=(3, 3), stride=(1, 1), padding=(1, 1), bias=False)\n",
       "      (bn1): BatchNorm2d(512, eps=1e-05, momentum=0.1, affine=True, track_running_stats=True)\n",
       "      (relu): ReLU(inplace=True)\n",
       "      (conv2): Conv2d(512, 512, kernel_size=(3, 3), stride=(1, 1), padding=(1, 1), bias=False)\n",
       "      (bn2): BatchNorm2d(512, eps=1e-05, momentum=0.1, affine=True, track_running_stats=True)\n",
       "    )\n",
       "  )\n",
       "  (avgpool): AdaptiveAvgPool2d(output_size=(1, 1))\n",
       "  (fc): Linear(in_features=512, out_features=1000, bias=True)\n",
       ")"
      ]
     },
     "execution_count": 29,
     "metadata": {},
     "output_type": "execute_result"
    }
   ],
   "source": [
    "model =torchvision.models.resnet18()\n",
    "model"
   ]
  },
  {
   "cell_type": "code",
   "execution_count": null,
   "id": "0a3b22cb-2acc-4f24-846e-6f6fad2ac3af",
   "metadata": {},
   "outputs": [],
   "source": []
  }
 ],
 "metadata": {
  "kernelspec": {
   "display_name": "Python 3 (ipykernel)",
   "language": "python",
   "name": "python3"
  },
  "language_info": {
   "codemirror_mode": {
    "name": "ipython",
    "version": 3
   },
   "file_extension": ".py",
   "mimetype": "text/x-python",
   "name": "python",
   "nbconvert_exporter": "python",
   "pygments_lexer": "ipython3",
   "version": "3.11.4"
  },
  "widgets": {
   "application/vnd.jupyter.widget-state+json": {
    "state": {},
    "version_major": 2,
    "version_minor": 0
   }
  }
 },
 "nbformat": 4,
 "nbformat_minor": 5
}
