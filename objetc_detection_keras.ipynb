{
 "cells": [
  {
   "cell_type": "code",
   "execution_count": 2,
   "id": "da2a8b2d-7f03-445f-afdf-063e69cfe048",
   "metadata": {},
   "outputs": [
    {
     "name": "stderr",
     "output_type": "stream",
     "text": [
      "2023-10-08 00:53:30.970609: I tensorflow/core/util/port.cc:110] oneDNN custom operations are on. You may see slightly different numerical results due to floating-point round-off errors from different computation orders. To turn them off, set the environment variable `TF_ENABLE_ONEDNN_OPTS=0`.\n",
      "2023-10-08 00:53:31.253735: I tensorflow/core/platform/cpu_feature_guard.cc:182] This TensorFlow binary is optimized to use available CPU instructions in performance-critical operations.\n",
      "To enable the following instructions: AVX2 AVX512F AVX512_VNNI FMA, in other operations, rebuild TensorFlow with the appropriate compiler flags.\n"
     ]
    },
    {
     "data": {
      "text/plain": [
       "2"
      ]
     },
     "execution_count": 2,
     "metadata": {},
     "output_type": "execute_result"
    }
   ],
   "source": [
    "import tensorflow as tf\n",
    "from tensorflow.keras.layers import Conv2D,MaxPool2D,Dense,Dropout,BatchNormalization,Flatten, Input\n",
    "from tensorflow.keras.datasets import mnist\n",
    "from keras import Sequential\n",
    "\n",
    "import warnings\n",
    "import os\n",
    "warnings.simplefilter('ignore')\n",
    "os.close(2)\n",
    "os.open(os.devnull, os.O_RDWR)"
   ]
  },
  {
   "cell_type": "markdown",
   "id": "93f5ea58-620c-4d7f-b072-16618389d23e",
   "metadata": {},
   "source": [
    "# Model creation"
   ]
  },
  {
   "cell_type": "code",
   "execution_count": 3,
   "id": "b8f8d810-a39f-4e33-83d0-b87119403a65",
   "metadata": {},
   "outputs": [],
   "source": [
    "class ObjectDetection(tf.keras.Model):\n",
    "    def __init__(self,n_class):\n",
    "        super(ObjectDetection,self).__init__()\n",
    "        self.n_class=n_class\n",
    "        self.base_model=Sequential([\n",
    "            Conv2D(filters=64,kernel_size=3,padding='same',strides=1,activation='relu'),\n",
    "            BatchNormalization(),\n",
    "            MaxPool2D(pool_size=2,strides=2),\n",
    "            Conv2D(filters=128,kernel_size=3,padding='same',strides=1,activation='relu'),\n",
    "            BatchNormalization(),\n",
    "            Conv2D(filters=128,kernel_size=3,padding='same',strides=1,activation='relu'),\n",
    "            BatchNormalization()\n",
    "        ])\n",
    "        \n",
    "        self.flatten =Flatten()\n",
    "        \n",
    "        self.regressor = Sequential([\n",
    "    \t\tDense(units=128, activation='relu'),\n",
    "    \t\tDense(units=64,activation='relu'),\n",
    "    \t\tDense(units=32,activation='relu'),\n",
    "    \t\tDense(units=4,activation='sigmoid')]\n",
    "        )\n",
    "        \n",
    "        self.classifier = Sequential([\n",
    "\t\t\tDense(units=256,activation='relu'),\n",
    "\t\t\tDropout(0.2),\n",
    "\t\t\tDense(units=256, activation='relu'),\n",
    "\t\t\tDropout(0.2),\n",
    "\t\t\tDense(units=self.n_class)]\n",
    "        )\n",
    "\n",
    "    def call(self,inputs):\n",
    "        x=self.base_model(inputs)\n",
    "        x=self.flatten(x)\n",
    "        regressor=self.regressor(x)\n",
    "        classifier=self.classifier(x)\n",
    "        return (regressor,classifier)"
   ]
  },
  {
   "cell_type": "code",
   "execution_count": 4,
   "id": "04fb2157-58f7-48de-9c27-cc6759f5e436",
   "metadata": {},
   "outputs": [],
   "source": [
    "input_tensor = Input(shape=(224, 224, 3))\n",
    "model = ObjectDetection(n_class=10)\n",
    "output=model(input_tensor)\n",
    "model."
   ]
  },
  {
   "cell_type": "code",
   "execution_count": null,
   "id": "5dba8098-766d-4250-81bc-f5c8a6a163cb",
   "metadata": {},
   "outputs": [],
   "source": []
  },
  {
   "cell_type": "code",
   "execution_count": null,
   "id": "9eaa5e59-95b4-47a8-af88-8366177e8698",
   "metadata": {},
   "outputs": [],
   "source": []
  }
 ],
 "metadata": {
  "kernelspec": {
   "display_name": "Python 3 (ipykernel)",
   "language": "python",
   "name": "python3"
  },
  "language_info": {
   "codemirror_mode": {
    "name": "ipython",
    "version": 3
   },
   "file_extension": ".py",
   "mimetype": "text/x-python",
   "name": "python",
   "nbconvert_exporter": "python",
   "pygments_lexer": "ipython3",
   "version": "3.11.4"
  },
  "widgets": {
   "application/vnd.jupyter.widget-state+json": {
    "state": {},
    "version_major": 2,
    "version_minor": 0
   }
  }
 },
 "nbformat": 4,
 "nbformat_minor": 5
}
