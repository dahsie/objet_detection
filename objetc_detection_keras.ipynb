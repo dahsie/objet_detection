{
 "cells": [
  {
   "cell_type": "code",
   "execution_count": 24,
   "id": "da2a8b2d-7f03-445f-afdf-063e69cfe048",
   "metadata": {},
   "outputs": [],
   "source": [
    "import tensorflow as tf\n",
    "from tensorflow.keras.layers import Conv2D,MaxPool2D,Dense,Dropout,BatchNormalization,Flatten, Input\n",
    "from tensorflow.keras.datasets import mnist\n",
    "from keras import Sequential"
   ]
  },
  {
   "cell_type": "markdown",
   "id": "93f5ea58-620c-4d7f-b072-16618389d23e",
   "metadata": {},
   "source": [
    "# Model creation"
   ]
  },
  {
   "cell_type": "code",
   "execution_count": 34,
   "id": "b8f8d810-a39f-4e33-83d0-b87119403a65",
   "metadata": {},
   "outputs": [],
   "source": [
    "class ObjectDetection(tf.keras.Model):\n",
    "    def __init__(self,n_class):\n",
    "        super(ObjectDetection,self).__init__()\n",
    "        self.n_class=n_class\n",
    "        self.base_model=Sequential([\n",
    "            Conv2D(filters=64,kernel_size=3,padding='same',strides=1,activation='relu'),\n",
    "            BatchNormalization(),\n",
    "            MaxPool2D(pool_size=2,strides=2),\n",
    "            Conv2D(filters=128,kernel_size=3,padding='same',strides=1,activation='relu'),\n",
    "            BatchNormalization(),\n",
    "            Conv2D(filters=128,kernel_size=3,padding='same',strides=1,activation='relu'),\n",
    "            BatchNormalization()\n",
    "        ])\n",
    "\n",
    "        self.regressor = Sequential([\n",
    "\t\t\tLinear(baseModel.fc.in_features, 128),\n",
    "\t\t\tReLU(),\n",
    "\t\t\tLinear(128, 64),\n",
    "\t\t\tReLU(),\n",
    "\t\t\tLinear(64, 32),\n",
    "\t\t\tReLU(),\n",
    "\t\t\tLinear(32, 4),\n",
    "\t\t\tSigmoid()]\n",
    "\t\t)\n",
    "\n",
    "    def call(self,inputs):\n",
    "        x=self.base_model(inputs)\n",
    "\n",
    "\n",
    "\n",
    "        return x"
   ]
  },
  {
   "cell_type": "code",
   "execution_count": 62,
   "id": "04fb2157-58f7-48de-9c27-cc6759f5e436",
   "metadata": {},
   "outputs": [
    {
     "name": "stdout",
     "output_type": "stream",
     "text": [
      "Model: \"sequential_35\"\n",
      "_________________________________________________________________\n",
      " Layer (type)                Output Shape              Param #   \n",
      "=================================================================\n",
      " conv2d_105 (Conv2D)         (None, 224, 224, 64)      1792      \n",
      "                                                                 \n",
      " batch_normalization_105 (B  (None, 224, 224, 64)      256       \n",
      " atchNormalization)                                              \n",
      "                                                                 \n",
      " max_pooling2d_35 (MaxPooli  (None, 112, 112, 64)      0         \n",
      " ng2D)                                                           \n",
      "                                                                 \n",
      " conv2d_106 (Conv2D)         (None, 112, 112, 128)     73856     \n",
      "                                                                 \n",
      " batch_normalization_106 (B  (None, 112, 112, 128)     512       \n",
      " atchNormalization)                                              \n",
      "                                                                 \n",
      " conv2d_107 (Conv2D)         (None, 112, 112, 128)     147584    \n",
      "                                                                 \n",
      " batch_normalization_107 (B  (None, 112, 112, 128)     512       \n",
      " atchNormalization)                                              \n",
      "                                                                 \n",
      "=================================================================\n",
      "Total params: 224512 (877.00 KB)\n",
      "Trainable params: 223872 (874.50 KB)\n",
      "Non-trainable params: 640 (2.50 KB)\n",
      "_________________________________________________________________\n"
     ]
    }
   ],
   "source": [
    "input_tensor = Input(shape=(224, 224, 3))\n",
    "model = ObjectDetection(n_class=n_class)\n",
    "output=model(input_tensor)\n",
    "\n",
    "#model.base_model.summary()\n",
    "\n",
    "model.base_model.summary()\n"
   ]
  },
  {
   "cell_type": "code",
   "execution_count": 52,
   "id": "1d66349c-0df1-4804-978a-f4a0211e1bcb",
   "metadata": {},
   "outputs": [
    {
     "name": "stdout",
     "output_type": "stream",
     "text": [
      "Sequential\n",
      "{'name': 'sequential_26', 'layers': [{'module': 'keras.layers', 'class_name': 'InputLayer', 'config': {'batch_input_shape': (None, 224, 224, 3), 'dtype': 'float32', 'sparse': False, 'ragged': False, 'name': 'conv2d_78_input'}, 'registered_name': None}, {'module': 'keras.layers', 'class_name': 'Conv2D', 'config': {'name': 'conv2d_78', 'trainable': True, 'dtype': 'float32', 'filters': 64, 'kernel_size': (3, 3), 'strides': (1, 1), 'padding': 'same', 'data_format': 'channels_last', 'dilation_rate': (1, 1), 'groups': 1, 'activation': 'relu', 'use_bias': True, 'kernel_initializer': {'module': 'keras.initializers', 'class_name': 'GlorotUniform', 'config': {'seed': None}, 'registered_name': None}, 'bias_initializer': {'module': 'keras.initializers', 'class_name': 'Zeros', 'config': {}, 'registered_name': None}, 'kernel_regularizer': None, 'bias_regularizer': None, 'activity_regularizer': None, 'kernel_constraint': None, 'bias_constraint': None}, 'registered_name': None, 'build_config': {'input_shape': (None, 224, 224, 3)}}, {'module': 'keras.layers', 'class_name': 'BatchNormalization', 'config': {'name': 'batch_normalization_78', 'trainable': True, 'dtype': 'float32', 'axis': [3], 'momentum': 0.99, 'epsilon': 0.001, 'center': True, 'scale': True, 'beta_initializer': {'module': 'keras.initializers', 'class_name': 'Zeros', 'config': {}, 'registered_name': None}, 'gamma_initializer': {'module': 'keras.initializers', 'class_name': 'Ones', 'config': {}, 'registered_name': None}, 'moving_mean_initializer': {'module': 'keras.initializers', 'class_name': 'Zeros', 'config': {}, 'registered_name': None}, 'moving_variance_initializer': {'module': 'keras.initializers', 'class_name': 'Ones', 'config': {}, 'registered_name': None}, 'beta_regularizer': None, 'gamma_regularizer': None, 'beta_constraint': None, 'gamma_constraint': None}, 'registered_name': None, 'build_config': {'input_shape': (None, 224, 224, 64)}}, {'module': 'keras.layers', 'class_name': 'MaxPooling2D', 'config': {'name': 'max_pooling2d_26', 'trainable': True, 'dtype': 'float32', 'pool_size': (2, 2), 'padding': 'valid', 'strides': (2, 2), 'data_format': 'channels_last'}, 'registered_name': None, 'build_config': {'input_shape': (None, 224, 224, 64)}}, {'module': 'keras.layers', 'class_name': 'Conv2D', 'config': {'name': 'conv2d_79', 'trainable': True, 'dtype': 'float32', 'filters': 128, 'kernel_size': (3, 3), 'strides': (1, 1), 'padding': 'same', 'data_format': 'channels_last', 'dilation_rate': (1, 1), 'groups': 1, 'activation': 'relu', 'use_bias': True, 'kernel_initializer': {'module': 'keras.initializers', 'class_name': 'GlorotUniform', 'config': {'seed': None}, 'registered_name': None}, 'bias_initializer': {'module': 'keras.initializers', 'class_name': 'Zeros', 'config': {}, 'registered_name': None}, 'kernel_regularizer': None, 'bias_regularizer': None, 'activity_regularizer': None, 'kernel_constraint': None, 'bias_constraint': None}, 'registered_name': None, 'build_config': {'input_shape': (None, 112, 112, 64)}}, {'module': 'keras.layers', 'class_name': 'BatchNormalization', 'config': {'name': 'batch_normalization_79', 'trainable': True, 'dtype': 'float32', 'axis': [3], 'momentum': 0.99, 'epsilon': 0.001, 'center': True, 'scale': True, 'beta_initializer': {'module': 'keras.initializers', 'class_name': 'Zeros', 'config': {}, 'registered_name': None}, 'gamma_initializer': {'module': 'keras.initializers', 'class_name': 'Ones', 'config': {}, 'registered_name': None}, 'moving_mean_initializer': {'module': 'keras.initializers', 'class_name': 'Zeros', 'config': {}, 'registered_name': None}, 'moving_variance_initializer': {'module': 'keras.initializers', 'class_name': 'Ones', 'config': {}, 'registered_name': None}, 'beta_regularizer': None, 'gamma_regularizer': None, 'beta_constraint': None, 'gamma_constraint': None}, 'registered_name': None, 'build_config': {'input_shape': (None, 112, 112, 128)}}, {'module': 'keras.layers', 'class_name': 'Conv2D', 'config': {'name': 'conv2d_80', 'trainable': True, 'dtype': 'float32', 'filters': 128, 'kernel_size': (3, 3), 'strides': (1, 1), 'padding': 'same', 'data_format': 'channels_last', 'dilation_rate': (1, 1), 'groups': 1, 'activation': 'relu', 'use_bias': True, 'kernel_initializer': {'module': 'keras.initializers', 'class_name': 'GlorotUniform', 'config': {'seed': None}, 'registered_name': None}, 'bias_initializer': {'module': 'keras.initializers', 'class_name': 'Zeros', 'config': {}, 'registered_name': None}, 'kernel_regularizer': None, 'bias_regularizer': None, 'activity_regularizer': None, 'kernel_constraint': None, 'bias_constraint': None}, 'registered_name': None, 'build_config': {'input_shape': (None, 112, 112, 128)}}, {'module': 'keras.layers', 'class_name': 'BatchNormalization', 'config': {'name': 'batch_normalization_80', 'trainable': True, 'dtype': 'float32', 'axis': [3], 'momentum': 0.99, 'epsilon': 0.001, 'center': True, 'scale': True, 'beta_initializer': {'module': 'keras.initializers', 'class_name': 'Zeros', 'config': {}, 'registered_name': None}, 'gamma_initializer': {'module': 'keras.initializers', 'class_name': 'Ones', 'config': {}, 'registered_name': None}, 'moving_mean_initializer': {'module': 'keras.initializers', 'class_name': 'Zeros', 'config': {}, 'registered_name': None}, 'moving_variance_initializer': {'module': 'keras.initializers', 'class_name': 'Ones', 'config': {}, 'registered_name': None}, 'beta_regularizer': None, 'gamma_regularizer': None, 'beta_constraint': None, 'gamma_constraint': None}, 'registered_name': None, 'build_config': {'input_shape': (None, 112, 112, 128)}}]}\n",
      "--------------------------------------------------\n"
     ]
    }
   ],
   "source": [
    "for layer in model.layers:\n",
    "    print(layer.__class__.__name__)\n",
    "    print(layer.get_config())\n",
    "    print(\"--------------------------------------------------\")"
   ]
  },
  {
   "cell_type": "code",
   "execution_count": 61,
   "id": "c593e67a-fd3f-4469-9e2a-cfa3cfaf6a72",
   "metadata": {},
   "outputs": [
    {
     "ename": "AttributeError",
     "evalue": "'Functional' object has no attribute 'base_model'",
     "output_type": "error",
     "traceback": [
      "\u001b[0;31m---------------------------------------------------------------------------\u001b[0m",
      "\u001b[0;31mAttributeError\u001b[0m                            Traceback (most recent call last)",
      "Cell \u001b[0;32mIn[61], line 8\u001b[0m\n\u001b[1;32m      4\u001b[0m output\u001b[38;5;241m=\u001b[39mmodel(input_tensor)\n\u001b[1;32m      6\u001b[0m model\u001b[38;5;241m=\u001b[39mtf\u001b[38;5;241m.\u001b[39mkeras\u001b[38;5;241m.\u001b[39mModel(inputs\u001b[38;5;241m=\u001b[39minput_tensor,outputs\u001b[38;5;241m=\u001b[39moutput)\n\u001b[0;32m----> 8\u001b[0m \u001b[43mmodel\u001b[49m\u001b[38;5;241;43m.\u001b[39;49m\u001b[43mbase_model\u001b[49m\u001b[38;5;241m.\u001b[39msummary()\n",
      "\u001b[0;31mAttributeError\u001b[0m: 'Functional' object has no attribute 'base_model'"
     ]
    }
   ],
   "source": [
    "n_class = 10\n",
    "input_tensor = Input(shape=(224, 224, 3))\n",
    "model = ObjectDetection(n_class=n_class)\n",
    "output=model(input_tensor)\n",
    "\n",
    "model=tf.keras.Model(inputs=input_tensor,outputs=output)\n",
    "\n",
    "model.base_model.summary()"
   ]
  },
  {
   "cell_type": "code",
   "execution_count": null,
   "id": "5dba8098-766d-4250-81bc-f5c8a6a163cb",
   "metadata": {},
   "outputs": [],
   "source": []
  },
  {
   "cell_type": "code",
   "execution_count": null,
   "id": "9eaa5e59-95b4-47a8-af88-8366177e8698",
   "metadata": {},
   "outputs": [],
   "source": []
  }
 ],
 "metadata": {
  "kernelspec": {
   "display_name": "Python 3 (ipykernel)",
   "language": "python",
   "name": "python3"
  },
  "language_info": {
   "codemirror_mode": {
    "name": "ipython",
    "version": 3
   },
   "file_extension": ".py",
   "mimetype": "text/x-python",
   "name": "python",
   "nbconvert_exporter": "python",
   "pygments_lexer": "ipython3",
   "version": "3.11.4"
  },
  "widgets": {
   "application/vnd.jupyter.widget-state+json": {
    "state": {},
    "version_major": 2,
    "version_minor": 0
   }
  }
 },
 "nbformat": 4,
 "nbformat_minor": 5
}
